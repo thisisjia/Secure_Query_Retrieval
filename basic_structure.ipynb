{
 "cells": [
  {
   "cell_type": "markdown",
   "metadata": {},
   "source": [
    "## Retrieval of related information based on query from multiple database with access level rules logic and RAG answer"
   ]
  },
  {
   "cell_type": "markdown",
   "metadata": {},
   "source": [
    "Creating Fake Database from different departments"
   ]
  },
  {
   "cell_type": "code",
   "execution_count": 22,
   "metadata": {},
   "outputs": [
    {
     "name": "stdout",
     "output_type": "stream",
     "text": [
      "Database for Finance created with standardized access levels and department column.\n",
      "Database for HR created with standardized access levels and department column.\n",
      "Database for Technical created with standardized access levels and department column.\n",
      "Database for Marketing created with standardized access levels and department column.\n",
      "Database for Sales created with standardized access levels and department column.\n"
     ]
    }
   ],
   "source": [
    "import sqlite3\n",
    "from datetime import datetime\n",
    "import random\n",
    "\n",
    "# Define departments with document data, limiting access levels to Employee, Executive, Manager, and Director\n",
    "departments = {\n",
    "    \"Finance\": [\n",
    "        (\"Financial Report Q1\", \"This is the content of the Finance Q1 report.\", \"Executive\"),\n",
    "        (\"Investment Analysis\", \"Detailed investment strategies and outcomes.\", \"Manager\"),\n",
    "        (\"Annual Budget\", \"Overview of the annual budget allocations and expenses.\", \"Executive\"),\n",
    "        (\"Expense Tracking\", \"Monthly tracking of departmental expenses.\", \"Employee\"),\n",
    "        (\"Risk Assessment\", \"Assessment of financial risks and mitigation strategies.\", \"Employee\"),\n",
    "        (\"Quarterly Forecast\", \"Forecast of revenue and expenditure for the upcoming quarter.\", \"Executive\"),\n",
    "    ],\n",
    "    \"HR\": [\n",
    "        (\"Policy Update\", \"New HR policies on leave and remote work.\", \"Employee\"),\n",
    "        (\"Employee Satisfaction Report\", \"Analysis of employee satisfaction.\", \"Manager\"),\n",
    "        (\"Onboarding Guide\", \"Steps and procedures for new employee onboarding.\", \"Employee\"),\n",
    "        (\"Performance Review Process\", \"Guidelines for conducting employee performance reviews.\", \"Manager\"),\n",
    "        (\"Diversity & Inclusion Initiatives\", \"Plans to enhance diversity and inclusion within the organization.\", \"Executive\"),\n",
    "        (\"Health & Safety Policy\", \"Updated policies on health and workplace safety.\", \"Employee\"),\n",
    "    ],\n",
    "    \"Technical\": [\n",
    "        (\"System Architecture\", \"Technical specifications for system architecture.\", \"Employee\"),\n",
    "        (\"Tech Roadmap\", \"Roadmap for upcoming tech projects and improvements.\", \"Manager\"),\n",
    "        (\"API Documentation\", \"Documentation for public and private APIs.\", \"Employee\"),\n",
    "        (\"Database Optimization\", \"Strategies for optimizing database performance.\", \"Employee\"),\n",
    "        (\"Cybersecurity Guidelines\", \"Security protocols for protecting data and infrastructure.\", \"Employee\"),\n",
    "        (\"Release Notes\", \"Notes and changes for the latest software release.\", \"Manager\"),\n",
    "    ],\n",
    "    \"Marketing\": [\n",
    "        (\"Marketing Strategy Q2\", \"Strategies and campaigns planned for Q2.\", \"Executive\"),\n",
    "        (\"Customer Feedback Analysis\", \"Analysis of customer feedback on recent campaigns.\", \"Employee\"),\n",
    "        (\"Brand Guidelines\", \"Updated guidelines for branding and marketing materials.\", \"Employee\"),\n",
    "        (\"Social Media Content Plan\", \"Plan for social media posts and engagements.\", \"Employee\"),\n",
    "        (\"Market Research Report\", \"Report on market trends and customer behavior.\", \"Employee\"),\n",
    "        (\"Campaign Performance\", \"Performance metrics for recent marketing campaigns.\", \"Executive\"),\n",
    "    ],\n",
    "    \"Sales\": [\n",
    "        (\"Sales Forecast\", \"Projected sales figures for the next quarter.\", \"Executive\"),\n",
    "        (\"Client Onboarding Guide\", \"Steps to onboard new clients effectively.\", \"Employee\"),\n",
    "        (\"Lead Scoring Model\", \"Model for scoring and prioritizing sales leads.\", \"Manager\"),\n",
    "        (\"Product Catalog\", \"Comprehensive catalog of products with descriptions.\", \"Employee\"),\n",
    "        (\"Sales Performance Report\", \"Analysis of individual and team sales performance.\", \"Executive\"),\n",
    "        (\"Competitor Analysis\", \"Detailed analysis of competitors in the market.\", \"Employee\"),\n",
    "    ]\n",
    "}\n",
    "\n",
    "# Function to create and populate each department database with the adjusted schema\n",
    "def create_department_db(department, data):\n",
    "    db_name = f\"{department.lower()}_db.sqlite\"\n",
    "    conn = sqlite3.connect(db_name)\n",
    "    c = conn.cursor()\n",
    "    \n",
    "    # Create the documents table with department and standardized access levels\n",
    "    c.execute('''\n",
    "        CREATE TABLE IF NOT EXISTS documents (\n",
    "            id INTEGER PRIMARY KEY AUTOINCREMENT,\n",
    "            title TEXT,\n",
    "            content TEXT,\n",
    "            department TEXT,\n",
    "            access_level TEXT,\n",
    "            created_date TEXT\n",
    "        )\n",
    "    ''')\n",
    "    \n",
    "    # Populate the table with sample data\n",
    "    for title, content, access_level in data:\n",
    "        created_date = datetime.now().strftime(\"%Y-%m-%d\")\n",
    "        \n",
    "        # Insert the document with department and access level\n",
    "        c.execute('''\n",
    "            INSERT INTO documents (title, content, department, access_level, created_date)\n",
    "            VALUES (?, ?, ?, ?, ?)\n",
    "        ''', (title, content, department, access_level, created_date))\n",
    "    \n",
    "    conn.commit()\n",
    "    conn.close()\n",
    "    print(f\"Database for {department} created with standardized access levels and department column.\")\n",
    "\n",
    "# Create each department's database with the new schema and sample data\n",
    "for dept, documents in departments.items():\n",
    "    create_department_db(dept, documents)\n",
    "\n"
   ]
  },
  {
   "cell_type": "markdown",
   "metadata": {},
   "source": [
    "Check the random database created"
   ]
  },
  {
   "cell_type": "code",
   "execution_count": 23,
   "metadata": {},
   "outputs": [],
   "source": [
    "def check_database(department):\n",
    "    db_name = f\"{department.lower()}_db.sqlite\"\n",
    "    conn = sqlite3.connect(db_name)\n",
    "    c = conn.cursor()\n",
    "    \n",
    "    # Fetch all records from the documents table\n",
    "    c.execute(\"SELECT * FROM documents\")\n",
    "    records = c.fetchall()\n",
    "    \n",
    "    # Print the results\n",
    "    print(f\"\\n--- {department} Database ---\")\n",
    "    for record in records:\n",
    "        print(record)\n",
    "    \n",
    "    conn.close()"
   ]
  },
  {
   "cell_type": "code",
   "execution_count": 24,
   "metadata": {},
   "outputs": [
    {
     "name": "stdout",
     "output_type": "stream",
     "text": [
      "\n",
      "--- Finance Database ---\n",
      "(1, 'Financial Report Q1', 'This is the content of the Finance Q1 report.', 'Finance', 'Executive', '2024-10-30')\n",
      "(2, 'Investment Analysis', 'Detailed investment strategies and outcomes.', 'Finance', 'Manager', '2024-10-30')\n",
      "(3, 'Annual Budget', 'Overview of the annual budget allocations and expenses.', 'Finance', 'Executive', '2024-10-30')\n",
      "(4, 'Expense Tracking', 'Monthly tracking of departmental expenses.', 'Finance', 'Employee', '2024-10-30')\n",
      "(5, 'Risk Assessment', 'Assessment of financial risks and mitigation strategies.', 'Finance', 'Employee', '2024-10-30')\n",
      "(6, 'Quarterly Forecast', 'Forecast of revenue and expenditure for the upcoming quarter.', 'Finance', 'Executive', '2024-10-30')\n",
      "\n",
      "--- HR Database ---\n",
      "(1, 'Policy Update', 'New HR policies on leave and remote work.', 'HR', 'Employee', '2024-10-30')\n",
      "(2, 'Employee Satisfaction Report', 'Analysis of employee satisfaction.', 'HR', 'Manager', '2024-10-30')\n",
      "(3, 'Onboarding Guide', 'Steps and procedures for new employee onboarding.', 'HR', 'Employee', '2024-10-30')\n",
      "(4, 'Performance Review Process', 'Guidelines for conducting employee performance reviews.', 'HR', 'Manager', '2024-10-30')\n",
      "(5, 'Diversity & Inclusion Initiatives', 'Plans to enhance diversity and inclusion within the organization.', 'HR', 'Executive', '2024-10-30')\n",
      "(6, 'Health & Safety Policy', 'Updated policies on health and workplace safety.', 'HR', 'Employee', '2024-10-30')\n",
      "\n",
      "--- Technical Database ---\n",
      "(1, 'System Architecture', 'Technical specifications for system architecture.', 'Technical', 'Employee', '2024-10-30')\n",
      "(2, 'Tech Roadmap', 'Roadmap for upcoming tech projects and improvements.', 'Technical', 'Manager', '2024-10-30')\n",
      "(3, 'API Documentation', 'Documentation for public and private APIs.', 'Technical', 'Employee', '2024-10-30')\n",
      "(4, 'Database Optimization', 'Strategies for optimizing database performance.', 'Technical', 'Employee', '2024-10-30')\n",
      "(5, 'Cybersecurity Guidelines', 'Security protocols for protecting data and infrastructure.', 'Technical', 'Employee', '2024-10-30')\n",
      "(6, 'Release Notes', 'Notes and changes for the latest software release.', 'Technical', 'Manager', '2024-10-30')\n",
      "\n",
      "--- Marketing Database ---\n",
      "(1, 'Marketing Strategy Q2', 'Strategies and campaigns planned for Q2.', 'Marketing', 'Executive', '2024-10-30')\n",
      "(2, 'Customer Feedback Analysis', 'Analysis of customer feedback on recent campaigns.', 'Marketing', 'Employee', '2024-10-30')\n",
      "(3, 'Brand Guidelines', 'Updated guidelines for branding and marketing materials.', 'Marketing', 'Employee', '2024-10-30')\n",
      "(4, 'Social Media Content Plan', 'Plan for social media posts and engagements.', 'Marketing', 'Employee', '2024-10-30')\n",
      "(5, 'Market Research Report', 'Report on market trends and customer behavior.', 'Marketing', 'Employee', '2024-10-30')\n",
      "(6, 'Campaign Performance', 'Performance metrics for recent marketing campaigns.', 'Marketing', 'Executive', '2024-10-30')\n",
      "\n",
      "--- Sales Database ---\n",
      "(1, 'Sales Forecast', 'Projected sales figures for the next quarter.', 'Sales', 'Executive', '2024-10-30')\n",
      "(2, 'Client Onboarding Guide', 'Steps to onboard new clients effectively.', 'Sales', 'Employee', '2024-10-30')\n",
      "(3, 'Lead Scoring Model', 'Model for scoring and prioritizing sales leads.', 'Sales', 'Manager', '2024-10-30')\n",
      "(4, 'Product Catalog', 'Comprehensive catalog of products with descriptions.', 'Sales', 'Employee', '2024-10-30')\n",
      "(5, 'Sales Performance Report', 'Analysis of individual and team sales performance.', 'Sales', 'Executive', '2024-10-30')\n",
      "(6, 'Competitor Analysis', 'Detailed analysis of competitors in the market.', 'Sales', 'Employee', '2024-10-30')\n"
     ]
    }
   ],
   "source": [
    "for dept in departments:\n",
    "    check_database(dept)"
   ]
  },
  {
   "cell_type": "code",
   "execution_count": 25,
   "metadata": {},
   "outputs": [
    {
     "data": {
      "text/plain": [
       "{'Finance': [('Financial Report Q1',\n",
       "   'This is the content of the Finance Q1 report.',\n",
       "   'Executive'),\n",
       "  ('Investment Analysis',\n",
       "   'Detailed investment strategies and outcomes.',\n",
       "   'Manager'),\n",
       "  ('Annual Budget',\n",
       "   'Overview of the annual budget allocations and expenses.',\n",
       "   'Executive'),\n",
       "  ('Expense Tracking',\n",
       "   'Monthly tracking of departmental expenses.',\n",
       "   'Employee'),\n",
       "  ('Risk Assessment',\n",
       "   'Assessment of financial risks and mitigation strategies.',\n",
       "   'Employee'),\n",
       "  ('Quarterly Forecast',\n",
       "   'Forecast of revenue and expenditure for the upcoming quarter.',\n",
       "   'Executive')],\n",
       " 'HR': [('Policy Update',\n",
       "   'New HR policies on leave and remote work.',\n",
       "   'Employee'),\n",
       "  ('Employee Satisfaction Report',\n",
       "   'Analysis of employee satisfaction.',\n",
       "   'Manager'),\n",
       "  ('Onboarding Guide',\n",
       "   'Steps and procedures for new employee onboarding.',\n",
       "   'Employee'),\n",
       "  ('Performance Review Process',\n",
       "   'Guidelines for conducting employee performance reviews.',\n",
       "   'Manager'),\n",
       "  ('Diversity & Inclusion Initiatives',\n",
       "   'Plans to enhance diversity and inclusion within the organization.',\n",
       "   'Executive'),\n",
       "  ('Health & Safety Policy',\n",
       "   'Updated policies on health and workplace safety.',\n",
       "   'Employee')],\n",
       " 'Technical': [('System Architecture',\n",
       "   'Technical specifications for system architecture.',\n",
       "   'Employee'),\n",
       "  ('Tech Roadmap',\n",
       "   'Roadmap for upcoming tech projects and improvements.',\n",
       "   'Manager'),\n",
       "  ('API Documentation',\n",
       "   'Documentation for public and private APIs.',\n",
       "   'Employee'),\n",
       "  ('Database Optimization',\n",
       "   'Strategies for optimizing database performance.',\n",
       "   'Employee'),\n",
       "  ('Cybersecurity Guidelines',\n",
       "   'Security protocols for protecting data and infrastructure.',\n",
       "   'Employee'),\n",
       "  ('Release Notes',\n",
       "   'Notes and changes for the latest software release.',\n",
       "   'Manager')],\n",
       " 'Marketing': [('Marketing Strategy Q2',\n",
       "   'Strategies and campaigns planned for Q2.',\n",
       "   'Executive'),\n",
       "  ('Customer Feedback Analysis',\n",
       "   'Analysis of customer feedback on recent campaigns.',\n",
       "   'Employee'),\n",
       "  ('Brand Guidelines',\n",
       "   'Updated guidelines for branding and marketing materials.',\n",
       "   'Employee'),\n",
       "  ('Social Media Content Plan',\n",
       "   'Plan for social media posts and engagements.',\n",
       "   'Employee'),\n",
       "  ('Market Research Report',\n",
       "   'Report on market trends and customer behavior.',\n",
       "   'Employee'),\n",
       "  ('Campaign Performance',\n",
       "   'Performance metrics for recent marketing campaigns.',\n",
       "   'Executive')],\n",
       " 'Sales': [('Sales Forecast',\n",
       "   'Projected sales figures for the next quarter.',\n",
       "   'Executive'),\n",
       "  ('Client Onboarding Guide',\n",
       "   'Steps to onboard new clients effectively.',\n",
       "   'Employee'),\n",
       "  ('Lead Scoring Model',\n",
       "   'Model for scoring and prioritizing sales leads.',\n",
       "   'Manager'),\n",
       "  ('Product Catalog',\n",
       "   'Comprehensive catalog of products with descriptions.',\n",
       "   'Employee'),\n",
       "  ('Sales Performance Report',\n",
       "   'Analysis of individual and team sales performance.',\n",
       "   'Executive'),\n",
       "  ('Competitor Analysis',\n",
       "   'Detailed analysis of competitors in the market.',\n",
       "   'Employee')]}"
      ]
     },
     "execution_count": 25,
     "metadata": {},
     "output_type": "execute_result"
    }
   ],
   "source": [
    "departments"
   ]
  },
  {
   "cell_type": "markdown",
   "metadata": {},
   "source": [
    "## Embedding Text into Faiss"
   ]
  },
  {
   "cell_type": "code",
   "execution_count": 26,
   "metadata": {},
   "outputs": [
    {
     "name": "stdout",
     "output_type": "stream",
     "text": [
      "Documents from Finance embedded and added to Faiss index.\n",
      "Documents from HR embedded and added to Faiss index.\n",
      "Documents from Technical embedded and added to Faiss index.\n",
      "Documents from Marketing embedded and added to Faiss index.\n",
      "Documents from Sales embedded and added to Faiss index.\n",
      "All documents embedded and stored in Faiss index.\n"
     ]
    }
   ],
   "source": [
    "import sqlite3\n",
    "from sentence_transformers import SentenceTransformer\n",
    "import faiss\n",
    "import numpy as np\n",
    "\n",
    "# Initialize the embedding model\n",
    "model = SentenceTransformer('all-MiniLM-L6-v2')\n",
    "embedding_dim = model.get_sentence_embedding_dimension()\n",
    "\n",
    "# Initialize the Faiss index\n",
    "index = faiss.IndexFlatL2(embedding_dim)\n",
    "\n",
    "# Dictionary to map document IDs to metadata for retrieval\n",
    "doc_metadata = {}\n",
    "\n",
    "# Function to embed and add documents to the Faiss index\n",
    "def embed_documents_from_db(department):\n",
    "    db_name = f\"{department.lower()}_db.sqlite\"\n",
    "    conn = sqlite3.connect(db_name)\n",
    "    c = conn.cursor()\n",
    "    \n",
    "    # Fetch all documents from the department's database\n",
    "    c.execute(\"SELECT id, title, content, access_level FROM documents\")\n",
    "    documents = c.fetchall()\n",
    "    \n",
    "    for doc_id, title, content, access_level in documents:\n",
    "        # Generate an embedding for the content\n",
    "        embedding = model.encode(content)\n",
    "        \n",
    "        # Add embedding to the Faiss index\n",
    "        index.add(np.array([embedding], dtype=np.float32))\n",
    "        \n",
    "        # Store metadata in a dictionary for reference during retrieval\n",
    "        doc_metadata[len(doc_metadata)] = {\n",
    "            \"doc_id\": doc_id,\n",
    "            \"title\": title,\n",
    "            \"department\": department,\n",
    "            \"access_level\": access_level,\n",
    "            \"content\": content\n",
    "        }\n",
    "        \n",
    "        \n",
    "    \n",
    "    conn.close()\n",
    "    print(f\"Documents from {department} embedded and added to Faiss index.\")\n",
    "\n",
    "# List of departments to process\n",
    "departments = [\"Finance\", \"HR\", \"Technical\", \"Marketing\", \"Sales\"]\n",
    "\n",
    "# Process each department and embed documents\n",
    "for dept in departments:\n",
    "    embed_documents_from_db(dept)\n",
    "\n",
    "print(\"All documents embedded and stored in Faiss index.\")\n"
   ]
  },
  {
   "cell_type": "markdown",
   "metadata": {},
   "source": [
    "Save Faiss Index and Metadata"
   ]
  },
  {
   "cell_type": "code",
   "execution_count": 27,
   "metadata": {},
   "outputs": [
    {
     "name": "stdout",
     "output_type": "stream",
     "text": [
      "Faiss index saved to faiss_index.bin.\n",
      "Metadata saved to doc_metadata.json.\n"
     ]
    }
   ],
   "source": [
    "import faiss\n",
    "import json\n",
    "\n",
    "# Function to save Faiss index and metadata\n",
    "def save_faiss_index(index, metadata, index_filename=\"faiss_index.bin\", metadata_filename=\"doc_metadata.json\"):\n",
    "    # Save the Faiss index to a binary file\n",
    "    faiss.write_index(index, index_filename)\n",
    "    print(f\"Faiss index saved to {index_filename}.\")\n",
    "    \n",
    "    # Save metadata to a JSON file\n",
    "    with open(metadata_filename, 'w') as f:\n",
    "        json.dump(metadata, f)\n",
    "    print(f\"Metadata saved to {metadata_filename}.\")\n",
    "\n",
    "# Save the index and metadata after embedding all documents\n",
    "save_faiss_index(index, doc_metadata)\n"
   ]
  },
  {
   "cell_type": "markdown",
   "metadata": {},
   "source": [
    "Load Faiss index and metadata"
   ]
  },
  {
   "cell_type": "code",
   "execution_count": 28,
   "metadata": {},
   "outputs": [],
   "source": [
    "# import faiss\n",
    "# import json\n",
    "\n",
    "# # Function to load Faiss index and metadata\n",
    "# def load_faiss_index(index_filename=\"faiss_index.bin\", metadata_filename=\"doc_metadata.json\"):\n",
    "#     # Load the Faiss index from the binary file\n",
    "#     index = faiss.read_index(index_filename)\n",
    "#     print(f\"Faiss index loaded from {index_filename}.\")\n",
    "    \n",
    "#     # Load metadata from the JSON file\n",
    "#     with open(metadata_filename, 'r') as f:\n",
    "#         metadata = json.load(f)\n",
    "#     print(f\"Metadata loaded from {metadata_filename}.\")\n",
    "    \n",
    "#     return index, metadata\n",
    "\n",
    "# # Load the index and metadata for use\n",
    "# index, doc_metadata = load_faiss_index()\n"
   ]
  },
  {
   "cell_type": "markdown",
   "metadata": {},
   "source": [
    "Retrieval with Faiss"
   ]
  },
  {
   "cell_type": "code",
   "execution_count": 29,
   "metadata": {},
   "outputs": [
    {
     "name": "stdout",
     "output_type": "stream",
     "text": [
      "\n",
      "Top similar documents:\n",
      "1. Title: Investment Analysis, Department: Finance, Access Level: Manager\n",
      "   Content: Detailed investment strategies and outcomes....\n",
      "   Distance: 0.6293718814849854\n",
      "\n",
      "2. Title: Marketing Strategy Q2, Department: Marketing, Access Level: Executive\n",
      "   Content: Strategies and campaigns planned for Q2....\n",
      "   Distance: 0.9541587829589844\n",
      "\n",
      "3. Title: Financial Report Q1, Department: Finance, Access Level: Executive\n",
      "   Content: This is the content of the Finance Q1 report....\n",
      "   Distance: 0.9845877289772034\n",
      "\n"
     ]
    }
   ],
   "source": [
    "def retrieve_similar_documents(query, top_k=5):\n",
    "    # Encode the query into a vector\n",
    "    query_embedding = model.encode(query).reshape(1, -1)\n",
    "    \n",
    "    # Search for the top_k most similar documents\n",
    "    distances, indices = index.search(np.array(query_embedding, dtype=np.float32), top_k)\n",
    "    \n",
    "    # Display the results\n",
    "    print(\"\\nTop similar documents:\")\n",
    "    for i, idx in enumerate(indices[0]):\n",
    "        if idx == -1:\n",
    "            continue\n",
    "        doc_info = doc_metadata[idx]\n",
    "        print(f\"{i+1}. Title: {doc_info['title']}, Department: {doc_info['department']}, Access Level: {doc_info['access_level']}\")\n",
    "        print(f\"   Content: {doc_info['content'][:100]}...\")  # Show a snippet of the content\n",
    "        print(f\"   Distance: {distances[0][i]}\\n\")\n",
    "\n",
    "# Example retrieval\n",
    "retrieve_similar_documents(\"investment strategies for Q1\", top_k=3)"
   ]
  },
  {
   "cell_type": "markdown",
   "metadata": {},
   "source": [
    "## Routing query with security \n",
    "\n",
    "Advantages of routing to separate database embeddings instead a collapsing all database into a single embedding vector and filtering at retrieval level provide additional security and less possibility for corruption and leakage of documents across departments"
   ]
  },
  {
   "cell_type": "markdown",
   "metadata": {},
   "source": [
    "Define access level logic \n",
    "\n",
    " - Employee: Can only access Employee-level documents in their department.\n",
    " - Executive: Can access Employee and Executive documents in any department.\n",
    " - Manager: Can access Employee, Executive, and Manager documents in their department; Executive and Employee documents in other departments.\n",
    " - Director: Has full access to all documents across all departments."
   ]
  },
  {
   "cell_type": "code",
   "execution_count": 30,
   "metadata": {},
   "outputs": [],
   "source": [
    "# Define access control logic\n",
    "def get_access_levels(user_role, department, doc_department, doc_access_level):\n",
    "    if user_role == \"Employee\":\n",
    "        return doc_department == department and doc_access_level == \"Employee\"\n",
    "    elif user_role == \"Executive\":\n",
    "        return doc_access_level in [\"Employee\", \"Executive\"]\n",
    "    elif user_role == \"Manager\":\n",
    "        if doc_department == department:\n",
    "            return doc_access_level in [\"Employee\", \"Executive\", \"Manager\"]\n",
    "        else:\n",
    "            return doc_access_level in [\"Employee\", \"Executive\"]\n",
    "    elif user_role == \"Director\":\n",
    "        return True  # Full access\n",
    "    return False\n"
   ]
  },
  {
   "cell_type": "code",
   "execution_count": 31,
   "metadata": {},
   "outputs": [],
   "source": [
    "import numpy as np\n",
    "\n",
    "# Function to retrieve documents based on query, user role, and department\n",
    "def route_query(query, user_role, department=None, top_k=5):\n",
    "    # Generate embedding for the query\n",
    "    query_embedding = model.encode(query).reshape(1, -1)\n",
    "    \n",
    "    # Search Faiss index for the top_k most similar documents\n",
    "    distances, indices = index.search(np.array(query_embedding, dtype=np.float32), top_k)\n",
    "    \n",
    "    # Filter results based on access level and department\n",
    "    filtered_results = []\n",
    "    for i, idx in enumerate(indices[0]):\n",
    "        if idx == -1:  # No more matches\n",
    "            continue\n",
    "        \n",
    "        # Retrieve document metadata\n",
    "        doc_info = doc_metadata[idx]  # Access with integer keys\n",
    "        \n",
    "        # Check access permissions using the custom access logic\n",
    "        if get_access_levels(user_role, department, doc_info[\"department\"], doc_info[\"access_level\"]):\n",
    "            # Add to results if all conditions are met\n",
    "            filtered_results.append({\n",
    "                \"title\": doc_info[\"title\"],\n",
    "                \"content\": doc_info[\"content\"],\n",
    "                \"department\": doc_info[\"department\"],\n",
    "                \"access_level\": doc_info[\"access_level\"],\n",
    "                \"distance\": distances[0][i] # similarity measure between the query embedding\n",
    "            })\n",
    "    \n",
    "    return filtered_results\n",
    "\n"
   ]
  },
  {
   "cell_type": "code",
   "execution_count": 32,
   "metadata": {},
   "outputs": [
    {
     "name": "stdout",
     "output_type": "stream",
     "text": [
      "{'title': 'Risk Assessment', 'content': 'Assessment of financial risks and mitigation strategies.', 'department': 'Finance', 'access_level': 'Employee', 'distance': 1.0207815}\n"
     ]
    }
   ],
   "source": [
    "#Employee level results\n",
    "\n",
    "# Example usage\n",
    "user_role = \"Employee\"  # Role of the user querying\n",
    "department = \"Finance\"  # Department the user belongs to\n",
    "query = \"investment strategies\"  # Query text\n",
    "\n",
    "# Run the route query and print results\n",
    "results = route_query(query, user_role, department)\n",
    "for result in results:\n",
    "    print(result)"
   ]
  },
  {
   "cell_type": "code",
   "execution_count": 35,
   "metadata": {},
   "outputs": [
    {
     "name": "stdout",
     "output_type": "stream",
     "text": [
      "{'title': 'Annual Budget', 'content': 'Overview of the annual budget allocations and expenses.', 'department': 'Finance', 'access_level': 'Executive', 'distance': 0.71796197}\n",
      "{'title': 'Quarterly Forecast', 'content': 'Forecast of revenue and expenditure for the upcoming quarter.', 'department': 'Finance', 'access_level': 'Executive', 'distance': 1.0298886}\n",
      "{'title': 'Expense Tracking', 'content': 'Monthly tracking of departmental expenses.', 'department': 'Finance', 'access_level': 'Employee', 'distance': 1.1505497}\n",
      "{'title': 'Sales Forecast', 'content': 'Projected sales figures for the next quarter.', 'department': 'Sales', 'access_level': 'Executive', 'distance': 1.182723}\n"
     ]
    }
   ],
   "source": [
    "#Manager level results\n",
    "\n",
    "# Example usage\n",
    "user_role = \"Manager\"  # Role of the user querying\n",
    "department = \"Technical\"  # Department the user belongs to\n",
    "query = \"Budget\"  # Query text\n",
    "\n",
    "# Run the route query and print results\n",
    "results = route_query(query, user_role, department)\n",
    "for result in results:\n",
    "    print(result)"
   ]
  },
  {
   "cell_type": "markdown",
   "metadata": {},
   "source": [
    "## Implementation with Langchain \n",
    "\n",
    "LangChain allows you to connect to Faiss and perform vector-based retrieval with minimal setup. "
   ]
  },
  {
   "cell_type": "markdown",
   "metadata": {},
   "source": [
    "Define a LangChain Retriever"
   ]
  },
  {
   "cell_type": "code",
   "execution_count": 40,
   "metadata": {},
   "outputs": [
    {
     "name": "stdout",
     "output_type": "stream",
     "text": [
      "FAISS vector store initialized and documents added.\n"
     ]
    }
   ],
   "source": [
    "from langchain.vectorstores import FAISS\n",
    "from langchain.embeddings import HuggingFaceEmbeddings\n",
    "\n",
    "# Initialize the embedding model\n",
    "embedding_model = HuggingFaceEmbeddings(model_name=\"sentence-transformers/all-MiniLM-L6-v2\")\n",
    "\n",
    "# Prepare texts and metadata lists for adding to FAISS\n",
    "texts = [doc['content'] for doc in doc_metadata.values()]\n",
    "metadata = [{\"title\": doc[\"title\"], \"department\": doc[\"department\"], \"access_level\": doc[\"access_level\"]} for doc in doc_metadata.values()]\n",
    "\n",
    "# Initialize and populate the FAISS vector store\n",
    "vector_store = FAISS.from_texts(texts, embedding_model, metadatas=metadata)\n",
    "\n",
    "print(\"FAISS vector store initialized and documents added.\")\n"
   ]
  },
  {
   "cell_type": "markdown",
   "metadata": {},
   "source": [
    " Embed and Add Documents to LangChain Vector Store"
   ]
  },
  {
   "cell_type": "code",
   "execution_count": 41,
   "metadata": {},
   "outputs": [
    {
     "name": "stdout",
     "output_type": "stream",
     "text": [
      "Documents from Finance embedded and added to LangChain FAISS index.\n",
      "Documents from HR embedded and added to LangChain FAISS index.\n",
      "Documents from Technical embedded and added to LangChain FAISS index.\n",
      "Documents from Marketing embedded and added to LangChain FAISS index.\n",
      "Documents from Sales embedded and added to LangChain FAISS index.\n",
      "All documents embedded and stored in LangChain's FAISS index.\n"
     ]
    }
   ],
   "source": [
    "# Update your function to use LangChain's FAISS\n",
    "def embed_documents_from_db_langchain(department):\n",
    "    db_name = f\"{department.lower()}_db.sqlite\"\n",
    "    conn = sqlite3.connect(db_name)\n",
    "    c = conn.cursor()\n",
    "    \n",
    "    # Fetch all documents from the department's database\n",
    "    c.execute(\"SELECT id, title, content, access_level FROM documents\")\n",
    "    documents = c.fetchall()\n",
    "    \n",
    "    # Embed and add each document to LangChain's FAISS\n",
    "    for doc_id, title, content, access_level in documents:\n",
    "        # Store metadata alongside content\n",
    "        metadata = {\n",
    "            \"doc_id\": doc_id,\n",
    "            \"title\": title,\n",
    "            \"department\": department,\n",
    "            \"access_level\": access_level\n",
    "        }\n",
    "        vector_store.add_texts([content], metadata=[metadata])\n",
    "\n",
    "    conn.close()\n",
    "    print(f\"Documents from {department} embedded and added to LangChain FAISS index.\")\n",
    "\n",
    "# Process each department and embed documents with LangChain\n",
    "for dept in departments:\n",
    "    embed_documents_from_db_langchain(dept)\n",
    "\n",
    "print(\"All documents embedded and stored in LangChain's FAISS index.\")\n"
   ]
  },
  {
   "cell_type": "markdown",
   "metadata": {},
   "source": [
    "Implement Role-Based Query Routing"
   ]
  },
  {
   "cell_type": "code",
   "execution_count": 45,
   "metadata": {},
   "outputs": [],
   "source": [
    "def route_query_langchain(query, user_role, department):\n",
    "    # Define access level restrictions\n",
    "    access_levels = {\n",
    "        \"Employee\": [\"Employee\"],\n",
    "        \"Manager\": [\"Employee\", \"Manager\"],\n",
    "        \"Executive\": [\"Employee\", \"Manager\", \"Executive\"]\n",
    "    }\n",
    "    \n",
    "    # Perform retrieval\n",
    "    retriever = vector_store.as_retriever()\n",
    "    raw_results = retriever.get_relevant_documents(query)\n",
    "\n",
    "    # Filter results by department and access level\n",
    "    filtered_results = [\n",
    "        result for result in raw_results \n",
    "        if result.metadata.get('department') == department \n",
    "        and result.metadata.get('access_level') in access_levels.get(user_role, [])\n",
    "    ]\n",
    "    return filtered_results\n"
   ]
  },
  {
   "cell_type": "code",
   "execution_count": 46,
   "metadata": {},
   "outputs": [
    {
     "data": {
      "text/plain": [
       "[{'title': 'Annual Budget',\n",
       "  'content': 'Overview of the annual budget allocations and expenses.',\n",
       "  'department': 'Finance',\n",
       "  'access_level': 'Executive',\n",
       "  'distance': 0.71796197},\n",
       " {'title': 'Quarterly Forecast',\n",
       "  'content': 'Forecast of revenue and expenditure for the upcoming quarter.',\n",
       "  'department': 'Finance',\n",
       "  'access_level': 'Executive',\n",
       "  'distance': 1.0298886},\n",
       " {'title': 'Expense Tracking',\n",
       "  'content': 'Monthly tracking of departmental expenses.',\n",
       "  'department': 'Finance',\n",
       "  'access_level': 'Employee',\n",
       "  'distance': 1.1505497},\n",
       " {'title': 'Sales Forecast',\n",
       "  'content': 'Projected sales figures for the next quarter.',\n",
       "  'department': 'Sales',\n",
       "  'access_level': 'Executive',\n",
       "  'distance': 1.182723}]"
      ]
     },
     "execution_count": 46,
     "metadata": {},
     "output_type": "execute_result"
    }
   ],
   "source": [
    "results"
   ]
  },
  {
   "cell_type": "markdown",
   "metadata": {},
   "source": [
    "Query and Get Filtered Results"
   ]
  },
  {
   "cell_type": "code",
   "execution_count": 47,
   "metadata": {},
   "outputs": [
    {
     "name": "stdout",
     "output_type": "stream",
     "text": [
      "{'title': 'Risk Assessment', 'department': 'Finance', 'access_level': 'Employee'} Assessment of financial risks and mitigation strategies.\n"
     ]
    }
   ],
   "source": [
    "# Example usage\n",
    "user_role = \"Employee\"\n",
    "department = \"Finance\"\n",
    "query = \"investment strategies\"\n",
    "\n",
    "results = route_query_langchain(query, user_role, department)\n",
    "for result in results:\n",
    "    print(result.metadata, result.page_content)"
   ]
  },
  {
   "cell_type": "code",
   "execution_count": 48,
   "metadata": {},
   "outputs": [
    {
     "name": "stdout",
     "output_type": "stream",
     "text": [
      "{'title': 'Annual Budget', 'content': 'Overview of the annual budget allocations and expenses.', 'department': 'Finance', 'access_level': 'Executive', 'distance': 0.71796197}\n",
      "{'title': 'Quarterly Forecast', 'content': 'Forecast of revenue and expenditure for the upcoming quarter.', 'department': 'Finance', 'access_level': 'Executive', 'distance': 1.0298886}\n",
      "{'title': 'Expense Tracking', 'content': 'Monthly tracking of departmental expenses.', 'department': 'Finance', 'access_level': 'Employee', 'distance': 1.1505497}\n",
      "{'title': 'Sales Forecast', 'content': 'Projected sales figures for the next quarter.', 'department': 'Sales', 'access_level': 'Executive', 'distance': 1.182723}\n"
     ]
    }
   ],
   "source": [
    "user_role = \"Manager\"  # Role of the user querying\n",
    "department = \"Technical\"  # Department the user belongs to\n",
    "query = \"Budget\"  # Query text\n",
    "\n",
    "# Run the route query and print results\n",
    "results = route_query(query, user_role, department)\n",
    "for result in results:\n",
    "    print(result)"
   ]
  },
  {
   "cell_type": "markdown",
   "metadata": {},
   "source": [
    "## Adding RAG - Define a prompt template that combines the retrieved documents with the user’s query."
   ]
  },
  {
   "cell_type": "code",
   "execution_count": 53,
   "metadata": {},
   "outputs": [
    {
     "name": "stderr",
     "output_type": "stream",
     "text": [
      "Hardware accelerator e.g. GPU is available in the environment, but no `device` argument is passed to the `Pipeline` object. Model will be on CPU.\n",
      "/var/folders/zd/pzsd6qy16k3fzg0h42vzr3_40000gn/T/ipykernel_48231/3307074482.py:13: LangChainDeprecationWarning: The class `HuggingFacePipeline` was deprecated in LangChain 0.0.37 and will be removed in 1.0. An updated version of the class exists in the :class:`~langchain-huggingface package and should be used instead. To use it run `pip install -U :class:`~langchain-huggingface` and import as `from :class:`~langchain_huggingface import HuggingFacePipeline``.\n",
      "  llm = HuggingFacePipeline(pipeline=hf_pipeline)\n"
     ]
    }
   ],
   "source": [
    "from langchain.llms import HuggingFacePipeline\n",
    "from transformers import AutoModelForCausalLM, AutoTokenizer, pipeline\n",
    "\n",
    "# Initialize the model and tokenizer\n",
    "model_name = \"gpt2\"  # Replace with any model on Hugging Face\n",
    "tokenizer = AutoTokenizer.from_pretrained(model_name)\n",
    "model = AutoModelForCausalLM.from_pretrained(model_name)\n",
    "\n",
    "# Create a pipeline\n",
    "hf_pipeline = pipeline(\"text-generation\", model=model, tokenizer=tokenizer)\n",
    "\n",
    "# Integrate with LangChain\n",
    "llm = HuggingFacePipeline(pipeline=hf_pipeline)\n",
    "\n",
    "def retrieve_documents(query, user_role, department):\n",
    "    # Define access level restrictions\n",
    "    access_levels = {\n",
    "        \"Employee\": [\"Employee\"],\n",
    "        \"Manager\": [\"Employee\", \"Manager\"],\n",
    "        \"Executive\": [\"Employee\", \"Manager\", \"Executive\"]\n",
    "    }\n",
    "    \n",
    "    # Perform retrieval\n",
    "    retriever = vector_store.as_retriever()\n",
    "    raw_results = retriever.get_relevant_documents(query)\n",
    "\n",
    "    # Filter results by department and access level\n",
    "    filtered_results = [\n",
    "        result for result in raw_results \n",
    "        if result.metadata.get('department') == department \n",
    "        and result.metadata.get('access_level') in access_levels[user_role]\n",
    "    ]\n",
    "    return filtered_results"
   ]
  },
  {
   "cell_type": "code",
   "execution_count": 60,
   "metadata": {},
   "outputs": [],
   "source": [
    "from langchain.prompts import PromptTemplate\n",
    "\n",
    "# Define a LangChain prompt template for RAG\n",
    "prompt_template = PromptTemplate(\n",
    "    input_variables=[\"query\", \"context\"],\n",
    "    template=\"The document you are looking for:\\n\\n{context}\\n\\nbased on your search of: {query} related to\"\n",
    ")\n",
    "\n",
    "def generate_rag_response(query, user_role, department):\n",
    "    # Retrieve documents based on query, role, and department\n",
    "    results = retrieve_documents(query, user_role, department)\n",
    "\n",
    "    # Combine the content of retrieved documents\n",
    "    context = \" \".join([res.page_content for res in results])\n",
    "\n",
    "    # Format the prompt with context and query\n",
    "    prompt = prompt_template.format(query=query, context=context)\n",
    "\n",
    "    # Generate the response using the LLM\n",
    "    response = llm(prompt)\n",
    "    return response"
   ]
  },
  {
   "cell_type": "code",
   "execution_count": 61,
   "metadata": {},
   "outputs": [
    {
     "name": "stderr",
     "output_type": "stream",
     "text": [
      "Setting `pad_token_id` to `eos_token_id`:None for open-end generation.\n"
     ]
    },
    {
     "name": "stdout",
     "output_type": "stream",
     "text": [
      "Generated Response: The document you are looking for:\n",
      "\n",
      "Assessment of financial risks and mitigation strategies.\n",
      "\n",
      "based on your search of: investment strategies related to money markets;\n",
      "\n",
      "specific risk estimates and assumptions;\n",
      "\n",
      "accountable for financial exposure;\n",
      "\n"
     ]
    }
   ],
   "source": [
    "# Example usage\n",
    "user_role = \"Employee\"\n",
    "department = \"Finance\"\n",
    "query = \"investment strategies\"\n",
    "\n",
    "response = generate_rag_response(query, user_role, department)\n",
    "print(\"Generated Response:\", response)\n"
   ]
  }
 ],
 "metadata": {
  "kernelspec": {
   "display_name": "Python 3",
   "language": "python",
   "name": "python3"
  },
  "language_info": {
   "codemirror_mode": {
    "name": "ipython",
    "version": 3
   },
   "file_extension": ".py",
   "mimetype": "text/x-python",
   "name": "python",
   "nbconvert_exporter": "python",
   "pygments_lexer": "ipython3",
   "version": "3.10.6"
  }
 },
 "nbformat": 4,
 "nbformat_minor": 2
}
